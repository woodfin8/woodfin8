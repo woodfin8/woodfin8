{
 "cells": [
  {
   "cell_type": "code",
   "execution_count": 4,
   "metadata": {},
   "outputs": [
    {
     "name": "stdout",
     "output_type": "stream",
     "text": [
      "1\n",
      "4\n",
      "SE\n",
      "Case #1: ES\n"
     ]
    }
   ],
   "source": [
    "#my solution\n",
    "def main():\n",
    "    #read T\n",
    "    t = int(input())\n",
    "    #run loops equal to T\n",
    "    for i in range(1, t+1):\n",
    "        #read N\n",
    "        n = input()\n",
    "        #read P\n",
    "        p = input()\n",
    "        #do the oppossite of P\n",
    "        #replace E's with s\n",
    "        p = p.replace('E', 's')\n",
    "        #replace S's with e\n",
    "        p = p.replace('S', 'e')\n",
    "        #capitalize\n",
    "        p = p.upper()\n",
    "        #print output\n",
    "        print('Case #{}: {}'.format(i,p))\n",
    "if __name__ == '__main__':\n",
    "    main()"
   ]
  },
  {
   "cell_type": "code",
   "execution_count": null,
   "metadata": {},
   "outputs": [],
   "source": [
    "#mush's solution\n",
    "def main():\n",
    "    # `t`: Number of test cases\n",
    "    t = int(input())\n",
    "    for i in range(1, t+1):\n",
    "        # `n` is discarded as it's not necessary\n",
    "        input()\n",
    "        p = input()\n",
    "        # Swap `E`'s and `S`'s\n",
    "        res = p.replace('E', '0').replace('S', 'E').replace('0', 'S')\n",
    "        print('Case #{0}: {1}'.format(i, res))\n",
    "\n",
    "if __name__ == '__main__':\n",
    "    main()\n"
   ]
  }
 ],
 "metadata": {
  "kernelspec": {
   "display_name": "Python 3",
   "language": "python",
   "name": "python3"
  },
  "language_info": {
   "codemirror_mode": {
    "name": "ipython",
    "version": 3
   },
   "file_extension": ".py",
   "mimetype": "text/x-python",
   "name": "python",
   "nbconvert_exporter": "python",
   "pygments_lexer": "ipython3",
   "version": "3.7.6"
  }
 },
 "nbformat": 4,
 "nbformat_minor": 4
}
