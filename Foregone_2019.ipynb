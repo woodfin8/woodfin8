{
 "cells": [
  {
   "cell_type": "code",
   "execution_count": 33,
   "metadata": {},
   "outputs": [
    {
     "name": "stdout",
     "output_type": "stream",
     "text": [
      "Case# 1: 200 3209\n",
      "Case# 2: 202 6282\n",
      "Case# 3: 2 75662\n",
      "Case# 4: 200 8200\n"
     ]
    }
   ],
   "source": [
    "#trial run\n",
    "t = 4\n",
    "\n",
    "stdin = ['4','3409','6484', '75664','8400' ]\n",
    "\n",
    "for z in range(1, t+1):\n",
    "    n = stdin[z]\n",
    "    a=''\n",
    "    for y in n:\n",
    "        if y == '4':\n",
    "            f ='2'\n",
    "        else:\n",
    "            f ='0'\n",
    "        a = a + f\n",
    "    a = int(a)\n",
    "    b = int(n) - a\n",
    "    print('Case #{0}: {1} {2}'.format(z,a,b))"
   ]
  },
  {
   "cell_type": "code",
   "execution_count": null,
   "metadata": {},
   "outputs": [],
   "source": [
    "def main():\n",
    "    #get T from first input\n",
    "    t = int(input())\n",
    "    #run for loop on N's \n",
    "    for z in range(1, t+1):\n",
    "        n = input()\n",
    "        a=''\n",
    "        #replace 4 with 2 for a\n",
    "        for y in n:\n",
    "            if y == '4':\n",
    "                f ='2'\n",
    "            else:\n",
    "                f ='0'\n",
    "            a = a + f\n",
    "        #convert a to int   \n",
    "        a = int(a)\n",
    "        #calculate b\n",
    "        b = int(n) - a\n",
    "        #print\n",
    "        print('Case# {0}: {1} {2}'.format(z, a, b))\n",
    "if __name__ == '__main__':\n",
    "    main()\n",
    "        "
   ]
  },
  {
   "cell_type": "code",
   "execution_count": 34,
   "metadata": {},
   "outputs": [
    {
     "name": "stdout",
     "output_type": "stream",
     "text": [
      "Case #1: 3309 100\n",
      "Case #2: 6383 101\n",
      "Case #3: 75663 1\n",
      "Case #4: 8300 100\n"
     ]
    }
   ],
   "source": [
    "#test run on mush's code\n",
    "t = 4\n",
    "stdin = ['4','3409','6484', '75664','8400' ]\n",
    "for i in range(1, t+1):\n",
    "    # `n`: The 4-prone number\n",
    "    n = stdin[i]\n",
    "    a = n.replace('4', '3')\n",
    "    print('Case #{0}: {1} {2}'.format(i, a, int(n)-int(a)))\n"
   ]
  },
  {
   "cell_type": "code",
   "execution_count": null,
   "metadata": {},
   "outputs": [],
   "source": [
    "#mush's code\n",
    "def main():\n",
    "    # `t`: Number of test cases\n",
    "    t = int(input())\n",
    "    for i in range(1, t+1):\n",
    "        # `n`: The 4-prone number\n",
    "        n = input()\n",
    "        a = n.replace('4', '3')\n",
    "        print('Case #{0}: {1} {2}'.format(i, a, int(n)-int(a)))\n",
    "\n",
    "\n",
    "if __name__ == '__main__':\n",
    "    main()"
   ]
  }
 ],
 "metadata": {
  "kernelspec": {
   "display_name": "Python 3",
   "language": "python",
   "name": "python3"
  },
  "language_info": {
   "codemirror_mode": {
    "name": "ipython",
    "version": 3
   },
   "file_extension": ".py",
   "mimetype": "text/x-python",
   "name": "python",
   "nbconvert_exporter": "python",
   "pygments_lexer": "ipython3",
   "version": "3.7.6"
  }
 },
 "nbformat": 4,
 "nbformat_minor": 4
}
